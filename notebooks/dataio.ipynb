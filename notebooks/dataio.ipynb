{
 "cells": [
  {
   "cell_type": "code",
   "execution_count": 5,
   "metadata": {},
   "outputs": [],
   "source": [
    "import pandas as pd\n",
    "\n",
    "valuedata_df = pd.read_json('../json_data/valuedata.json')\n",
    "vectordata_df = pd.read_json('../json_data/vectordata.json')\n",
    "surfacedata_df = pd.read_json('../json_data/surfacedata.json')\n",
    "futuresdata_df = pd.read_json('../json_data/futuresdata.json')"
   ]
  },
  {
   "cell_type": "code",
   "execution_count": 2,
   "metadata": {},
   "outputs": [
    {
     "data": {
      "text/html": [
       "<div>\n",
       "<style scoped>\n",
       "    .dataframe tbody tr th:only-of-type {\n",
       "        vertical-align: middle;\n",
       "    }\n",
       "\n",
       "    .dataframe tbody tr th {\n",
       "        vertical-align: top;\n",
       "    }\n",
       "\n",
       "    .dataframe thead th {\n",
       "        text-align: right;\n",
       "    }\n",
       "</style>\n",
       "<table border=\"1\" class=\"dataframe\">\n",
       "  <thead>\n",
       "    <tr style=\"text-align: right;\">\n",
       "      <th></th>\n",
       "      <th>value</th>\n",
       "      <th>market_datetime</th>\n",
       "      <th>currency</th>\n",
       "      <th>name</th>\n",
       "      <th>code</th>\n",
       "    </tr>\n",
       "  </thead>\n",
       "  <tbody>\n",
       "    <tr>\n",
       "      <th>0</th>\n",
       "      <td>350</td>\n",
       "      <td>[2024, 31, 7, 13, 31, 874, 9, 0, 0]</td>\n",
       "      <td>KRW</td>\n",
       "      <td>KOSPI2</td>\n",
       "      <td>KOSPI2</td>\n",
       "    </tr>\n",
       "    <tr>\n",
       "      <th>1</th>\n",
       "      <td>5000</td>\n",
       "      <td>[2024, 92, 7, 13, 31, 874, 9, 0, 0]</td>\n",
       "      <td>USD</td>\n",
       "      <td>SPX</td>\n",
       "      <td>SPX</td>\n",
       "    </tr>\n",
       "  </tbody>\n",
       "</table>\n",
       "</div>"
      ],
      "text/plain": [
       "   value                      market_datetime currency    name    code\n",
       "0    350  [2024, 31, 7, 13, 31, 874, 9, 0, 0]      KRW  KOSPI2  KOSPI2\n",
       "1   5000  [2024, 92, 7, 13, 31, 874, 9, 0, 0]      USD     SPX     SPX"
      ]
     },
     "execution_count": 2,
     "metadata": {},
     "output_type": "execute_result"
    }
   ],
   "source": [
    "valuedata_df"
   ]
  },
  {
   "cell_type": "code",
   "execution_count": 12,
   "metadata": {},
   "outputs": [
    {
     "data": {
      "text/plain": [
       "[[2021, 1, 0, 0, 0, 0, 9, 0, 0],\n",
       " [2021, 3, 0, 0, 0, 0, 9, 0, 0],\n",
       " [2021, 6, 0, 0, 0, 0, 9, 0, 0],\n",
       " [2021, 8, 0, 0, 0, 0, 9, 0, 0],\n",
       " [2021, 11, 0, 0, 0, 0, 9, 0, 0]]"
      ]
     },
     "execution_count": 12,
     "metadata": {},
     "output_type": "execute_result"
    }
   ],
   "source": [
    "vectordata_df.iloc[0]['dates']\n",
    "      "
   ]
  },
  {
   "cell_type": "code",
   "execution_count": 10,
   "metadata": {},
   "outputs": [
    {
     "name": "stdout",
     "output_type": "stream",
     "text": [
      "None\n"
     ]
    }
   ],
   "source": [
    "print(vectordata_df.iloc[1]['dates'])"
   ]
  },
  {
   "cell_type": "code",
   "execution_count": 3,
   "metadata": {},
   "outputs": [
    {
     "data": {
      "text/plain": [
       "spot                                                           350.0\n",
       "value              {'v': 1, 'dim': [9, 25], 'data': [0.904032, 0....\n",
       "dates              [[2021, 32, 17, 0, 0, 0, 9, 0, 0], [2021, 60, ...\n",
       "strikes            {'v': 1, 'dim': [25], 'data': [105.00001, 122....\n",
       "market_datetime                      [2021, 1, 17, 0, 0, 0, 9, 0, 0]\n",
       "currency                                                         KRW\n",
       "name                                            KOSPI2 20220414 Data\n",
       "code                                            KOSPI2 20220414 Data\n",
       "Name: 0, dtype: object"
      ]
     },
     "execution_count": 3,
     "metadata": {},
     "output_type": "execute_result"
    }
   ],
   "source": [
    "surfacedata_df.iloc[0]"
   ]
  },
  {
   "cell_type": "code",
   "execution_count": 6,
   "metadata": {},
   "outputs": [
    {
     "data": {
      "text/plain": [
       "average_trade_price                                350\n",
       "first_trade_date       [2021, 1, 17, 0, 0, 0, 9, 0, 0]\n",
       "last_trade_date        [2022, 1, 17, 0, 0, 0, 9, 0, 0]\n",
       "maturity               [2022, 1, 17, 0, 0, 0, 9, 0, 0]\n",
       "settlement_date        [2022, 1, 17, 0, 0, 0, 9, 0, 0]\n",
       "unit_notional                                   250000\n",
       "currency                                           KRW\n",
       "underlying_currency                                KRW\n",
       "underlying_codes                              [KOSPI2]\n",
       "name                                       KOSPI2 fut1\n",
       "code                                            165AAA\n",
       "Name: 0, dtype: object"
      ]
     },
     "execution_count": 6,
     "metadata": {},
     "output_type": "execute_result"
    }
   ],
   "source": [
    "futuresdata_df.iloc[0]"
   ]
  },
  {
   "cell_type": "code",
   "execution_count": null,
   "metadata": {},
   "outputs": [],
   "source": []
  }
 ],
 "metadata": {
  "kernelspec": {
   "display_name": "Base",
   "language": "python",
   "name": "python3"
  },
  "language_info": {
   "codemirror_mode": {
    "name": "ipython",
    "version": 3
   },
   "file_extension": ".py",
   "mimetype": "text/x-python",
   "name": "python",
   "nbconvert_exporter": "python",
   "pygments_lexer": "ipython3",
   "version": "3.9.13"
  }
 },
 "nbformat": 4,
 "nbformat_minor": 2
}
